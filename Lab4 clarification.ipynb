{
 "cells": [
  {
   "cell_type": "markdown",
   "metadata": {},
   "source": [
    "## Lab4: More functions, more classes"
   ]
  },
  {
   "cell_type": "markdown",
   "metadata": {},
   "source": [
    "### Asterisk Mark"
   ]
  },
  {
   "cell_type": "code",
   "execution_count": 67,
   "metadata": {},
   "outputs": [],
   "source": [
    "def test1(*ab):\n",
    "    print(ab)\n",
    "    print(sum(ab))\n",
    "    print(sum(ab,10))\n",
    "    print(a,b)"
   ]
  },
  {
   "cell_type": "code",
   "execution_count": 68,
   "metadata": {
    "scrolled": true
   },
   "outputs": [
    {
     "name": "stdout",
     "output_type": "stream",
     "text": [
      "(1, 2)\n",
      "3\n",
      "13\n"
     ]
    },
    {
     "ename": "NameError",
     "evalue": "name 'a' is not defined",
     "output_type": "error",
     "traceback": [
      "\u001b[0;31m---------------------------------------------------------------------------\u001b[0m",
      "\u001b[0;31mNameError\u001b[0m                                 Traceback (most recent call last)",
      "\u001b[0;32m<ipython-input-68-1bccb9d95a43>\u001b[0m in \u001b[0;36m<module>\u001b[0;34m\u001b[0m\n\u001b[0;32m----> 1\u001b[0;31m \u001b[0mtest1\u001b[0m\u001b[0;34m(\u001b[0m\u001b[0;36m1\u001b[0m\u001b[0;34m,\u001b[0m\u001b[0;36m2\u001b[0m\u001b[0;34m)\u001b[0m\u001b[0;34m\u001b[0m\u001b[0;34m\u001b[0m\u001b[0m\n\u001b[0m",
      "\u001b[0;32m<ipython-input-67-4e35d2ab6488>\u001b[0m in \u001b[0;36mtest1\u001b[0;34m(*ab)\u001b[0m\n\u001b[1;32m      3\u001b[0m     \u001b[0mprint\u001b[0m\u001b[0;34m(\u001b[0m\u001b[0msum\u001b[0m\u001b[0;34m(\u001b[0m\u001b[0mab\u001b[0m\u001b[0;34m)\u001b[0m\u001b[0;34m)\u001b[0m\u001b[0;34m\u001b[0m\u001b[0;34m\u001b[0m\u001b[0m\n\u001b[1;32m      4\u001b[0m     \u001b[0mprint\u001b[0m\u001b[0;34m(\u001b[0m\u001b[0msum\u001b[0m\u001b[0;34m(\u001b[0m\u001b[0mab\u001b[0m\u001b[0;34m,\u001b[0m\u001b[0;36m10\u001b[0m\u001b[0;34m)\u001b[0m\u001b[0;34m)\u001b[0m\u001b[0;34m\u001b[0m\u001b[0;34m\u001b[0m\u001b[0m\n\u001b[0;32m----> 5\u001b[0;31m     \u001b[0mprint\u001b[0m\u001b[0;34m(\u001b[0m\u001b[0ma\u001b[0m\u001b[0;34m,\u001b[0m\u001b[0mb\u001b[0m\u001b[0;34m)\u001b[0m\u001b[0;34m\u001b[0m\u001b[0;34m\u001b[0m\u001b[0m\n\u001b[0m",
      "\u001b[0;31mNameError\u001b[0m: name 'a' is not defined"
     ]
    }
   ],
   "source": [
    "test1(1,2)"
   ]
  },
  {
   "cell_type": "markdown",
   "metadata": {},
   "source": [
    "1. Print result 1 & Print result 4:\n",
    "*ab only works together as a tuple (1,2) . a, b is not separable variable, so neither of the individual a or individual b is defined.\n",
    "\n",
    "2. Print result 2:\n",
    "sum() function takes in the tuple and sum each element in the tuple, that’s why we misunderstood that a and b can be separated. \n",
    "\n",
    "3. Print result 3:\n",
    "sum() function can continue to add other element being fed in. So this line is summing ((1,2),10) and gives the result of 13.\n"
   ]
  },
  {
   "cell_type": "code",
   "execution_count": 63,
   "metadata": {},
   "outputs": [],
   "source": [
    "def test2(*a,b):\n",
    "    print(a)\n",
    "    print(b)"
   ]
  },
  {
   "cell_type": "code",
   "execution_count": 64,
   "metadata": {
    "scrolled": false
   },
   "outputs": [
    {
     "ename": "NameError",
     "evalue": "name 'b' is not defined",
     "output_type": "error",
     "traceback": [
      "\u001b[0;31m---------------------------------------------------------------------------\u001b[0m",
      "\u001b[0;31mNameError\u001b[0m                                 Traceback (most recent call last)",
      "\u001b[0;32m<ipython-input-64-4ede97cacd04>\u001b[0m in \u001b[0;36m<module>\u001b[0;34m\u001b[0m\n\u001b[0;32m----> 1\u001b[0;31m \u001b[0mtest2\u001b[0m\u001b[0;34m(\u001b[0m\u001b[0;36m1\u001b[0m\u001b[0;34m,\u001b[0m\u001b[0;36m2\u001b[0m\u001b[0;34m,\u001b[0m \u001b[0mb\u001b[0m\u001b[0;34m)\u001b[0m\u001b[0;34m\u001b[0m\u001b[0;34m\u001b[0m\u001b[0m\n\u001b[0m",
      "\u001b[0;31mNameError\u001b[0m: name 'b' is not defined"
     ]
    }
   ],
   "source": [
    "test2(1,2, b)"
   ]
  },
  {
   "cell_type": "code",
   "execution_count": 66,
   "metadata": {},
   "outputs": [
    {
     "name": "stdout",
     "output_type": "stream",
     "text": [
      "(1, 2)\n",
      "4\n"
     ]
    }
   ],
   "source": [
    "test2(1,2, b=4)"
   ]
  },
  {
   "cell_type": "markdown",
   "metadata": {},
   "source": [
    "test2(1,2,b) reports an error but test(1,2, b=4) does not.\n",
    "\n",
    "\n",
    "This is because that the asterisk mark * gives the first keyword argument a some flexibility, we don’t have to specify its name as a. In comparison, b does not starts with the mark, so we have to specify we are assigning the value for b."
   ]
  },
  {
   "cell_type": "markdown",
   "metadata": {},
   "source": [
    "## lambda"
   ]
  },
  {
   "cell_type": "code",
   "execution_count": 2,
   "metadata": {},
   "outputs": [],
   "source": [
    "BASE_VAL = 10"
   ]
  },
  {
   "cell_type": "code",
   "execution_count": 8,
   "metadata": {
    "scrolled": true
   },
   "outputs": [
    {
     "name": "stdout",
     "output_type": "stream",
     "text": [
      "ab is: (10, 10)\n",
      "sum(ab) is: 20\n",
      "len(ab) is: 2\n",
      "The result of the lambda funciton sum(ab)/len(ab) is 10.0\n",
      "The value is bigger than the base value.\n"
     ]
    }
   ],
   "source": [
    "def value_tester(*ab, func=sum):    \n",
    "    val = func(ab) \n",
    "    if val > BASE_VAL:        \n",
    "        statement = 'bigger than'    \n",
    "    elif val == BASE_VAL:        \n",
    "        statement = 'the same as'    \n",
    "    else:        \n",
    "        statement = 'smaller than'   \n",
    "    print('ab is:', ab)\n",
    "    print('sum(ab) is:', sum(ab))\n",
    "    print('len(ab) is:', len(ab))\n",
    "    print('The result of the lambda funciton sum(ab)/len(ab) is', sum(ab)/len(ab))\n",
    "    print(f'The value is {statement} the base value.')\n",
    "    \n",
    "value_tester(10, 10)"
   ]
  },
  {
   "cell_type": "code",
   "execution_count": 9,
   "metadata": {
    "scrolled": true
   },
   "outputs": [
    {
     "name": "stdout",
     "output_type": "stream",
     "text": [
      "ab is: (10, 10)\n",
      "sum(ab) is: 20\n",
      "len(ab) is: 2\n",
      "The result of the lambda funciton sum(ab)/len(ab) is 10.0\n",
      "The value is the same as the base value.\n"
     ]
    }
   ],
   "source": [
    "value_tester(10,10, func=lambda ab:sum(ab)/len(ab))"
   ]
  },
  {
   "cell_type": "markdown",
   "metadata": {},
   "source": [
    "1. When we give 10,10 as a keyword input for *ab, we’re not giving two separate int, but a tuple consists of the two ints, (10,10).\n",
    "\n",
    "2. The lambda function is set to calculate the sum of ab/ the length of ab, and the lambda function is also the position two input for the function value_tester(), equivalent to sum() or np.prod(). In other words, we are defining a new mathematical function without naming it as lambda.\n",
    "\n",
    "3. As explained in the first example, ab = (10,10), sum(ab) = 20, len(ab) is the length of the tuple, which is 2. Therefore, it prints out the evaluation result as ’the same’. "
   ]
  },
  {
   "cell_type": "code",
   "execution_count": null,
   "metadata": {},
   "outputs": [],
   "source": []
  }
 ],
 "metadata": {
  "kernelspec": {
   "display_name": "Python 3",
   "language": "python",
   "name": "python3"
  },
  "language_info": {
   "codemirror_mode": {
    "name": "ipython",
    "version": 3
   },
   "file_extension": ".py",
   "mimetype": "text/x-python",
   "name": "python",
   "nbconvert_exporter": "python",
   "pygments_lexer": "ipython3",
   "version": "3.8.5"
  }
 },
 "nbformat": 4,
 "nbformat_minor": 4
}
