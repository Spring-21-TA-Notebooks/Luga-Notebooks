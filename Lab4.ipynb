{
 "cells": [
  {
   "cell_type": "markdown",
   "metadata": {},
   "source": [
    "## Lab4: More functions, more classes"
   ]
  },
  {
   "cell_type": "markdown",
   "metadata": {},
   "source": [
    "### Functions"
   ]
  },
  {
   "cell_type": "code",
   "execution_count": 3,
   "metadata": {},
   "outputs": [],
   "source": [
    "BASE_VAL = 100"
   ]
  },
  {
   "cell_type": "code",
   "execution_count": 4,
   "metadata": {},
   "outputs": [
    {
     "name": "stdout",
     "output_type": "stream",
     "text": [
      "The value is smaller than the base value.\n"
     ]
    }
   ],
   "source": [
    "def value_tester(a, b):    \n",
    "    val = a + b    \n",
    "    if val > BASE_VAL:        \n",
    "        statement = 'bigger than'    \n",
    "    elif val == BASE_VAL:        \n",
    "        statement = 'the same as'    \n",
    "    else:        \n",
    "        statement = 'smaller than'    \n",
    "    print(f'The value is {statement} the base value.')\n",
    "    \n",
    "value_tester(10, 10)"
   ]
  },
  {
   "cell_type": "code",
   "execution_count": null,
   "metadata": {},
   "outputs": [],
   "source": [
    "def value_tester(a, b):    \n",
    "    val = sum([a + b]) \n",
    "    if val > BASE_VAL:        \n",
    "        statement = 'bigger than'    \n",
    "    elif val == BASE_VAL:        \n",
    "        statement = 'the same as'    \n",
    "    else:        \n",
    "        statement = 'smaller than'    \n",
    "    print(f'The value is {statement} the base value.')\n",
    "    \n",
    "value_tester(10, 10)"
   ]
  },
  {
   "cell_type": "code",
   "execution_count": 5,
   "metadata": {
    "scrolled": true
   },
   "outputs": [
    {
     "ename": "ValueError",
     "evalue": "too many values to unpack (expected 2)",
     "output_type": "error",
     "traceback": [
      "\u001b[0;31m---------------------------------------------------------------------------\u001b[0m",
      "\u001b[0;31mValueError\u001b[0m                                Traceback (most recent call last)",
      "\u001b[0;32m<ipython-input-5-cdd9f17f6b4e>\u001b[0m in \u001b[0;36m<module>\u001b[0;34m\u001b[0m\n\u001b[0;32m----> 1\u001b[0;31m \u001b[0mx\u001b[0m\u001b[0;34m,\u001b[0m \u001b[0my\u001b[0m \u001b[0;34m=\u001b[0m \u001b[0;34m[\u001b[0m\u001b[0;36m10\u001b[0m\u001b[0;34m,\u001b[0m\u001b[0;36m20\u001b[0m\u001b[0;34m,\u001b[0m\u001b[0;36m30\u001b[0m\u001b[0;34m]\u001b[0m\u001b[0;34m\u001b[0m\u001b[0;34m\u001b[0m\u001b[0m\n\u001b[0m",
      "\u001b[0;31mValueError\u001b[0m: too many values to unpack (expected 2)"
     ]
    }
   ],
   "source": [
    "x, y = [10,20,30]"
   ]
  },
  {
   "cell_type": "code",
   "execution_count": 6,
   "metadata": {},
   "outputs": [
    {
     "name": "stdout",
     "output_type": "stream",
     "text": [
      "10\n",
      "[20, 30]\n"
     ]
    }
   ],
   "source": [
    "x,*y= [10,20,30]\n",
    "print(x)\n",
    "print(y)"
   ]
  },
  {
   "cell_type": "code",
   "execution_count": 38,
   "metadata": {},
   "outputs": [
    {
     "name": "stdout",
     "output_type": "stream",
     "text": [
      "The value is smaller than the base value.\n"
     ]
    }
   ],
   "source": [
    "def value_tester(*ab):    \n",
    "    val = sum(ab) \n",
    "    if val > BASE_VAL:        \n",
    "        statement = 'bigger than'    \n",
    "    elif val == BASE_VAL:        \n",
    "        statement = 'the same as'    \n",
    "    else:        \n",
    "        statement = 'smaller than'    \n",
    "    print(f'The value is {statement} the base value.')\n",
    "    \n",
    "value_tester(10,10)"
   ]
  },
  {
   "cell_type": "code",
   "execution_count": 11,
   "metadata": {},
   "outputs": [
    {
     "name": "stdout",
     "output_type": "stream",
     "text": [
      "The value is smaller than the base value.\n"
     ]
    }
   ],
   "source": [
    "def value_tester(*ab, func=sum):    \n",
    "    val = func(ab) \n",
    "    if val > BASE_VAL:        \n",
    "        statement = 'bigger than'    \n",
    "    elif val == BASE_VAL:        \n",
    "        statement = 'the same as'    \n",
    "    else:        \n",
    "        statement = 'smaller than'    \n",
    "    print(f'The value is {statement} the base value.')\n",
    "    \n",
    "value_tester(10, 10)"
   ]
  },
  {
   "cell_type": "code",
   "execution_count": 13,
   "metadata": {},
   "outputs": [
    {
     "name": "stdout",
     "output_type": "stream",
     "text": [
      "The value is the same as the base value.\n"
     ]
    }
   ],
   "source": [
    "import numpy as np\n",
    "value_tester(10,10,func=np.prod) #numpy product"
   ]
  },
  {
   "cell_type": "code",
   "execution_count": null,
   "metadata": {},
   "outputs": [],
   "source": [
    "#lambda funcs\n",
    "#Anonymous, simple\n",
    "#Useful when dealing with data-preprocessing"
   ]
  },
  {
   "cell_type": "code",
   "execution_count": 14,
   "metadata": {},
   "outputs": [
    {
     "name": "stdout",
     "output_type": "stream",
     "text": [
      "The value is smaller than the base value.\n"
     ]
    }
   ],
   "source": [
    "value_tester(10,10, func=lambda ab:sum(ab)/len(ab))"
   ]
  },
  {
   "cell_type": "code",
   "execution_count": 15,
   "metadata": {},
   "outputs": [
    {
     "name": "stdout",
     "output_type": "stream",
     "text": [
      "The value is smaller than the base value.\n"
     ]
    }
   ],
   "source": [
    "value_tester(150,10, func=lambda ab:sum(ab)/len(ab))"
   ]
  },
  {
   "cell_type": "code",
   "execution_count": null,
   "metadata": {},
   "outputs": [],
   "source": [
    "#lambda with filter(), map(), reduce()"
   ]
  },
  {
   "cell_type": "code",
   "execution_count": 30,
   "metadata": {},
   "outputs": [],
   "source": [
    "#lambdas in filter()\n",
    "#The filter function is used to select some particular elements from a sequence of elements. \n",
    "#The sequence can be any iterator like lists, sets, tuples, etc.\n",
    "\n",
    "#The elements which will be selected is based on some pre-defined constraint. It takes 2 parameters:\n",
    "\n",
    "#A function that defines the filtering constraint\n",
    "#A sequence (any iterator like lists, tuples, etc.)"
   ]
  },
  {
   "cell_type": "code",
   "execution_count": 29,
   "metadata": {},
   "outputs": [
    {
     "name": "stdout",
     "output_type": "stream",
     "text": [
      "[10, 8, 7, 5, 11]\n"
     ]
    }
   ],
   "source": [
    "sequences = [10,2,8,7,5,4,3,11,0, 1]\n",
    "filtered_result = filter (lambda x: x > 4, sequences) \n",
    "print(list(filtered_result))"
   ]
  },
  {
   "cell_type": "code",
   "execution_count": 31,
   "metadata": {},
   "outputs": [],
   "source": [
    "#lambdas in map()\n",
    "#the map function is used to apply a particular operation to every element in a sequence. \n",
    "#Like filter(), it also takes 2 parameters:\n",
    "\n",
    "#A function that defines the op to perform on the elements\n",
    "#One or more sequences"
   ]
  },
  {
   "cell_type": "code",
   "execution_count": 32,
   "metadata": {},
   "outputs": [
    {
     "name": "stdout",
     "output_type": "stream",
     "text": [
      "[100, 4, 64, 49, 25, 16, 9, 121, 0, 1]\n"
     ]
    }
   ],
   "source": [
    "sequences = [10,2,8,7,5,4,3,11,0, 1]\n",
    "filtered_result = map (lambda x: x*x, sequences) \n",
    "print(list(filtered_result))"
   ]
  },
  {
   "cell_type": "code",
   "execution_count": null,
   "metadata": {},
   "outputs": [],
   "source": [
    "#lambdas in reduce()\n",
    "#The reduce function, like map(), is used to apply an operation to every element in a sequence. \n",
    "#However, it differs from the map in its working. \n",
    "#These are the steps followed by the reduce() function to compute an output:\n",
    "\n",
    "#Step 1) Perform the defined operation on the first 2 elements of the sequence.\n",
    "\n",
    "#Step 2) Save this result\n",
    "\n",
    "#Step 3) Perform the operation with the saved result and the next element in the sequence.\n",
    "\n",
    "#Step 4) Repeat until no more elements are left.\n",
    "\n",
    "#It also takes two parameters:\n",
    "\n",
    "#A function that defines the operation to be performed\n",
    "#A sequence (any iterator like lists, tuples, etc.)\n"
   ]
  },
  {
   "cell_type": "code",
   "execution_count": 33,
   "metadata": {},
   "outputs": [
    {
     "name": "stdout",
     "output_type": "stream",
     "text": [
      "120\n"
     ]
    }
   ],
   "source": [
    "from functools import reduce\n",
    "sequences = [1,2,3,4,5]\n",
    "product = reduce (lambda x, y: x*y, sequences)\n",
    "print(product)"
   ]
  },
  {
   "cell_type": "code",
   "execution_count": null,
   "metadata": {},
   "outputs": [],
   "source": []
  },
  {
   "cell_type": "code",
   "execution_count": null,
   "metadata": {},
   "outputs": [],
   "source": []
  },
  {
   "cell_type": "markdown",
   "metadata": {},
   "source": [
    "### Class: inheritance"
   ]
  },
  {
   "cell_type": "markdown",
   "metadata": {},
   "source": [
    "![071515_1030_PythonClass2](https://user-images.githubusercontent.com/32838329/115328954-0e450b80-a1c4-11eb-8365-d57d7b4f2b57.png)\n"
   ]
  },
  {
   "cell_type": "code",
   "execution_count": 16,
   "metadata": {},
   "outputs": [],
   "source": [
    "class Vehicle():\n",
    "    def __init__(self, kind):\n",
    "        self.kind = kind\n",
    "    def what_am_i(self):\n",
    "        print(f'I am a {self.kind}.')\n",
    "    def fuel(self):\n",
    "        print('I use oil for fuel')\n",
    "        "
   ]
  },
  {
   "cell_type": "code",
   "execution_count": 17,
   "metadata": {},
   "outputs": [],
   "source": [
    "class Bicycle(Vehicle):\n",
    "    def fuel(self):\n",
    "        print('I am people-powered.')\n",
    "    def peddle_me(self):\n",
    "        print('You have to peddle fast')"
   ]
  },
  {
   "cell_type": "code",
   "execution_count": 20,
   "metadata": {},
   "outputs": [
    {
     "name": "stdout",
     "output_type": "stream",
     "text": [
      "I am a bike.\n",
      "I am people-powered.\n",
      "You have to peddle fast\n"
     ]
    }
   ],
   "source": [
    "bike = Bicycle('bike')\n",
    "bike.what_am_i()\n",
    "bike.fuel()\n",
    "bike.peddle_me()"
   ]
  },
  {
   "cell_type": "code",
   "execution_count": 23,
   "metadata": {},
   "outputs": [],
   "source": [
    "class Mystring(str):\n",
    "    def say_hello(self):\n",
    "        print('hello world!')\n",
    "    def lower(self):\n",
    "        print(\"No I don't want to be in lower cases\")"
   ]
  },
  {
   "cell_type": "code",
   "execution_count": 25,
   "metadata": {},
   "outputs": [],
   "source": [
    "ms = Mystring('Hello my name is Jeff.')"
   ]
  },
  {
   "cell_type": "code",
   "execution_count": 27,
   "metadata": {},
   "outputs": [
    {
     "data": {
      "text/plain": [
       "'HELLO MY NAME IS JEFF.'"
      ]
     },
     "execution_count": 27,
     "metadata": {},
     "output_type": "execute_result"
    }
   ],
   "source": [
    "ms.upper()   #<- inheritance from the string class, \n",
    "             #similar for dict/list/tuple/int/float/int..."
   ]
  },
  {
   "cell_type": "code",
   "execution_count": 26,
   "metadata": {},
   "outputs": [
    {
     "name": "stdout",
     "output_type": "stream",
     "text": [
      "No I don't want to be in lower cases\n"
     ]
    }
   ],
   "source": [
    "ms.lower()"
   ]
  },
  {
   "cell_type": "code",
   "execution_count": 28,
   "metadata": {},
   "outputs": [
    {
     "name": "stdout",
     "output_type": "stream",
     "text": [
      "hello world!\n"
     ]
    }
   ],
   "source": [
    "ms.say_hello()"
   ]
  }
 ],
 "metadata": {
  "kernelspec": {
   "display_name": "Python 3",
   "language": "python",
   "name": "python3"
  },
  "language_info": {
   "codemirror_mode": {
    "name": "ipython",
    "version": 3
   },
   "file_extension": ".py",
   "mimetype": "text/x-python",
   "name": "python",
   "nbconvert_exporter": "python",
   "pygments_lexer": "ipython3",
   "version": "3.8.5"
  }
 },
 "nbformat": 4,
 "nbformat_minor": 4
}
